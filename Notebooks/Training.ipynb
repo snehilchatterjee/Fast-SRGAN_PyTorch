{
 "cells": [
  {
   "cell_type": "code",
   "execution_count": null,
   "id": "c57c44fe-92a3-4823-a80d-6b9912c9a9eb",
   "metadata": {},
   "outputs": [],
   "source": [
    "def pretrain_step(model, x, y):\n",
    "    \"\"\"\n",
    "    Single step of generator pre-training.\n",
    "    Args:\n",
    "        model: A model object with a tf keras compiled generator.\n",
    "        x: The low resolution image tensor.\n",
    "        y: The high resolution image tensor.\n",
    "    \"\"\"\n",
    "    with tf.GradientTape() as tape:\n",
    "        fake_hr = model.generator(x)\n",
    "        loss_mse = tf.keras.losses.MeanSquaredError()(y, fake_hr)\n",
    "\n",
    "    grads = tape.gradient(loss_mse, model.generator.trainable_variables)\n",
    "    model.gen_optimizer.apply_gradients(zip(grads, model.generator.trainable_variables))\n",
    "\n",
    "    return loss_mse\n"
   ]
  }
 ],
 "metadata": {
  "kernelspec": {
   "display_name": "Python 3 (ipykernel)",
   "language": "python",
   "name": "python3"
  },
  "language_info": {
   "codemirror_mode": {
    "name": "ipython",
    "version": 3
   },
   "file_extension": ".py",
   "mimetype": "text/x-python",
   "name": "python",
   "nbconvert_exporter": "python",
   "pygments_lexer": "ipython3",
   "version": "3.11.5"
  }
 },
 "nbformat": 4,
 "nbformat_minor": 5
}
